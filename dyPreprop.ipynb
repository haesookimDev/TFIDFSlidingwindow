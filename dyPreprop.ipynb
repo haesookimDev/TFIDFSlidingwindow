{
 "cells": [
  {
   "cell_type": "code",
   "execution_count": 2,
   "id": "d16dceb6-b7b7-4c19-aa8b-334d1e5f814a",
   "metadata": {
    "tags": []
   },
   "outputs": [
    {
     "name": "stderr",
     "output_type": "stream",
     "text": [
      "/home/netsec/hs-AI/lib/python3.7/site-packages/tqdm/auto.py:21: TqdmWarning: IProgress not found. Please update jupyter and ipywidgets. See https://ipywidgets.readthedocs.io/en/stable/user_install.html\n",
      "  from .autonotebook import tqdm as notebook_tqdm\n"
     ]
    }
   ],
   "source": [
    "import os\n",
    "import numpy as np\n",
    "from tqdm.auto import tqdm\n",
    "import pickle\n",
    "import gzip\n",
    "from math import log"
   ]
  },
  {
   "cell_type": "code",
   "execution_count": 3,
   "id": "5cfcda4e-d8d5-4152-8878-2b559d0e8df2",
   "metadata": {
    "tags": []
   },
   "outputs": [],
   "source": [
    "def createDirectory(directory):\n",
    "    try:\n",
    "        if not os.path.exists(directory):\n",
    "            os.makedirs(directory)\n",
    "    except OSError:\n",
    "        print(\"Error: Failed to create the directory.\")"
   ]
  },
  {
   "cell_type": "code",
   "execution_count": 4,
   "id": "bfeda05f-e664-41cd-a5aa-e1b5c77755b5",
   "metadata": {
    "tags": []
   },
   "outputs": [
    {
     "ename": "FileNotFoundError",
     "evalue": "[Errno 2] No such file or directory: './datanumpy/api/'",
     "output_type": "error",
     "traceback": [
      "\u001b[0;31m---------------------------------------------------------------------------\u001b[0m",
      "\u001b[0;31mFileNotFoundError\u001b[0m                         Traceback (most recent call last)",
      "\u001b[0;32m/tmp/ipykernel_16357/1260537949.py\u001b[0m in \u001b[0;36m<module>\u001b[0;34m\u001b[0m\n\u001b[0;32m----> 1\u001b[0;31m \u001b[0mapi_list\u001b[0m \u001b[0;34m=\u001b[0m \u001b[0mos\u001b[0m\u001b[0;34m.\u001b[0m\u001b[0mlistdir\u001b[0m\u001b[0;34m(\u001b[0m\u001b[0;34m'./datanumpy/api/'\u001b[0m\u001b[0;34m)\u001b[0m\u001b[0;34m\u001b[0m\u001b[0;34m\u001b[0m\u001b[0m\n\u001b[0m\u001b[1;32m      2\u001b[0m \u001b[0mcg_list\u001b[0m \u001b[0;34m=\u001b[0m \u001b[0mos\u001b[0m\u001b[0;34m.\u001b[0m\u001b[0mlistdir\u001b[0m\u001b[0;34m(\u001b[0m\u001b[0;34m'./datanumpy/category/'\u001b[0m\u001b[0;34m)\u001b[0m\u001b[0;34m\u001b[0m\u001b[0;34m\u001b[0m\u001b[0m\n",
      "\u001b[0;31mFileNotFoundError\u001b[0m: [Errno 2] No such file or directory: './datanumpy/api/'"
     ]
    }
   ],
   "source": [
    "api_list = os.listdir('./datanumpy/api/')\n",
    "cg_list = os.listdir('./datanumpy/category/')"
   ]
  },
  {
   "cell_type": "code",
   "execution_count": 4,
   "id": "ea03f786-f5d5-4078-9524-561f621ff2ff",
   "metadata": {
    "tags": []
   },
   "outputs": [
    {
     "name": "stderr",
     "output_type": "stream",
     "text": [
      "100%|█████████████████████████████████████| 37366/37366 [09:39<00:00, 64.51it/s]\n"
     ]
    }
   ],
   "source": [
    "vocab=[]\n",
    "df={}\n",
    "for i in tqdm(api_list, total=len(api_list)):\n",
    "    with gzip.open('./datanumpy/api/'+i,'rb') as f:\n",
    "        data = pickle.load(f)\n",
    "    vocab.extend(list(set(data)))\n",
    "    vocab=list(set(vocab))\n",
    "\n",
    "with gzip.open('./datanumpy/tfidf/api_vocab.pickle', 'wb') as f:\n",
    "    pickle.dump(vocab, f)"
   ]
  },
  {
   "cell_type": "code",
   "execution_count": 6,
   "id": "bb3b0b87-5fef-4119-921b-158d423b2b57",
   "metadata": {
    "tags": []
   },
   "outputs": [
    {
     "name": "stderr",
     "output_type": "stream",
     "text": [
      "100%|█████████████████████████████████████| 37366/37366 [07:39<00:00, 81.41it/s]\n"
     ]
    }
   ],
   "source": [
    "vocab_cg=[]\n",
    "df_cg={}\n",
    "for i in tqdm(cg_list, total=len(cg_list)):\n",
    "    with gzip.open('./datanumpy/category/'+i,'rb') as f:\n",
    "        data = pickle.load(f)\n",
    "    vocab_cg.extend(list(set(data)))\n",
    "    vocab_cg=list(set(vocab_cg))\n",
    "    \n",
    "with gzip.open('./datanumpy/tfidf/cg_vocab.pickle', 'wb') as f:\n",
    "    pickle.dump(vocab_cg, f)"
   ]
  },
  {
   "cell_type": "code",
   "execution_count": 30,
   "id": "0cc95492-0168-4e3a-8281-c5695219bca3",
   "metadata": {
    "tags": []
   },
   "outputs": [
    {
     "name": "stderr",
     "output_type": "stream",
     "text": [
      "100%|█████████████████████████████████████| 37366/37366 [49:59<00:00, 12.46it/s]"
     ]
    },
    {
     "name": "stdout",
     "output_type": "stream",
     "text": [
      "309\n",
      "309\n"
     ]
    },
    {
     "name": "stderr",
     "output_type": "stream",
     "text": [
      "\n"
     ]
    }
   ],
   "source": [
    "for i in tqdm(api_list, total=len(api_list)):\n",
    "    try:\n",
    "        with gzip.open('./datanumpy/malware/api/train/'+i,'rb') as f:\n",
    "            data = pickle.load(f)\n",
    "        for j in vocab:\n",
    "            if j in data:\n",
    "                if j in df:\n",
    "                    df.update({j:df[j]+1})\n",
    "                else:\n",
    "                    df[j]=1\n",
    "            else:\n",
    "                df[j]=0\n",
    "    except:\n",
    "        continue\n",
    "print(len(list(df.keys())))\n",
    "with gzip.open('./datanumpy/tfidf/api_df.pickle', 'wb') as f:\n",
    "    pickle.dump(df, f)\n",
    "\n",
    "api_list_train = os.listdir('./datanumpy/malware/api/train/')\n",
    "N = len(api_list_train)\n",
    "idf = {}\n",
    "\n",
    "for i in df:\n",
    "    idf[i]=log((1+N)/(1+df[i]))+1\n",
    "\n",
    "print(len(list(idf.keys())))\n",
    "with gzip.open('./datanumpy/tfidf/api_idf.pickle', 'wb') as f:\n",
    "    pickle.dump(idf, f)"
   ]
  },
  {
   "cell_type": "code",
   "execution_count": 31,
   "id": "aed1d7b2-1d82-489a-b6b5-eb8b3a6fd4d9",
   "metadata": {
    "tags": []
   },
   "outputs": [
    {
     "name": "stderr",
     "output_type": "stream",
     "text": [
      "100%|████████████████████████████████████| 37366/37366 [03:35<00:00, 173.58it/s]"
     ]
    },
    {
     "name": "stdout",
     "output_type": "stream",
     "text": [
      "16\n",
      "16\n"
     ]
    },
    {
     "name": "stderr",
     "output_type": "stream",
     "text": [
      "\n"
     ]
    }
   ],
   "source": [
    "for i in tqdm(cg_list, total=len(cg_list)):\n",
    "    try:\n",
    "        with gzip.open('./datanumpy/malware/category/train/'+i,'rb') as f:\n",
    "            data = pickle.load(f)\n",
    "        for j in vocab_cg:\n",
    "            if j in data:\n",
    "                if j in df_cg:\n",
    "                    df_cg.update({j:df_cg[j]+1})\n",
    "                else:\n",
    "                    df_cg[j]=1\n",
    "            else:\n",
    "                df_cg[j]=0\n",
    "    except:\n",
    "        continue\n",
    "print(len(list(df_cg.keys())))\n",
    "with gzip.open('./datanumpy/tfidf/cg_df.pickle', 'wb') as f:\n",
    "    pickle.dump(df_cg, f)\n",
    "    \n",
    "cg_list_train = os.listdir('./datanumpy/malware/category/train/')\n",
    "N = len(cg_list_train)\n",
    "idf_cg = {}\n",
    "\n",
    "for i in df_cg:\n",
    "    idf_cg[i]=log((1+N)/(1+df_cg[i]))+1\n",
    "print(len(list(idf_cg.keys())))\n",
    "with gzip.open('./datanumpy/tfidf/cg_idf.pickle', 'wb') as f:\n",
    "    pickle.dump(idf_cg, f)"
   ]
  },
  {
   "cell_type": "code",
   "execution_count": 15,
   "id": "28de95c2-d0e8-41c2-9450-37054f935315",
   "metadata": {
    "tags": []
   },
   "outputs": [
    {
     "name": "stdout",
     "output_type": "stream",
     "text": [
      "end\n"
     ]
    }
   ],
   "source": [
    "print(\"end\")"
   ]
  },
  {
   "cell_type": "code",
   "execution_count": 33,
   "id": "1cd7d36c-6da3-4c7a-abdb-e7768d386141",
   "metadata": {
    "tags": []
   },
   "outputs": [],
   "source": [
    "from math import sqrt"
   ]
  },
  {
   "cell_type": "code",
   "execution_count": 34,
   "id": "7c47d21e-8992-4534-b236-26ddacaee908",
   "metadata": {
    "tags": []
   },
   "outputs": [
    {
     "name": "stderr",
     "output_type": "stream",
     "text": [
      "100%|███████████████████████████████████| 37366/37366 [2:49:01<00:00,  3.68it/s]\n"
     ]
    }
   ],
   "source": [
    "for i in tqdm(api_list, total=len(api_list)):\n",
    "    tfidf = {}\n",
    "    with gzip.open('./datanumpy/api/'+i,'rb') as f:\n",
    "        data = pickle.load(f)\n",
    "    for j in vocab:\n",
    "        tfidf[j]=idf[j]*data.count(j)\n",
    "    pow_value = 0\n",
    "    for j in tfidf.values():\n",
    "        pow_value+=pow(j,2)\n",
    "    sqrt_value = sqrt(pow_value)\n",
    "    try:\n",
    "        for j in tfidf:\n",
    "            tfidf[j]=tfidf[j]/sqrt_value\n",
    "    except:\n",
    "        pass\n",
    "    with gzip.open('./datanumpy/tfidf/api_tfidf/'+i.split('.')[0]+'.pickle', 'wb') as f:\n",
    "        pickle.dump(tfidf, f)"
   ]
  },
  {
   "cell_type": "code",
   "execution_count": 35,
   "id": "1aa3fa82-296f-4b53-9f1d-29c8fbf4040f",
   "metadata": {
    "tags": []
   },
   "outputs": [
    {
     "name": "stderr",
     "output_type": "stream",
     "text": [
      "100%|█████████████████████████████████████| 37366/37366 [14:53<00:00, 41.81it/s]\n"
     ]
    }
   ],
   "source": [
    "for i in tqdm(cg_list, total=len(cg_list)):\n",
    "    tfidf_cg = {}\n",
    "    with gzip.open('./datanumpy/category/'+i,'rb') as f:\n",
    "        data = pickle.load(f)\n",
    "    for j in vocab_cg:\n",
    "        tfidf_cg[j]=idf_cg[j]*data.count(j)\n",
    "    pow_value = 0\n",
    "    for j in tfidf_cg.values():\n",
    "        pow_value +=pow(j,2)\n",
    "    sqrt_value = sqrt(pow_value)\n",
    "    try:\n",
    "        for j in tfidf_cg:\n",
    "             tfidf_cg[j]=tfidf_cg[j]/sqrt_value\n",
    "    except:\n",
    "        pass\n",
    "    with gzip.open('./datanumpy/tfidf/category_tfidf/'+i.split('.')[0]+'.pickle', 'wb') as f:\n",
    "        pickle.dump(tfidf_cg, f)"
   ]
  },
  {
   "cell_type": "code",
   "execution_count": null,
   "id": "0d5edb60-e648-4b0f-8b32-95eb68f38842",
   "metadata": {},
   "outputs": [],
   "source": [
    "print('end')"
   ]
  },
  {
   "cell_type": "code",
   "execution_count": 5,
   "id": "aaf36e9c-6fc0-45ba-ab1a-d35177264cc4",
   "metadata": {
    "tags": []
   },
   "outputs": [],
   "source": [
    "api_list = os.listdir('./datanumpy/benign_seq/api/')\n",
    "cg_list = os.listdir('./datanumpy/benign_seq/category/')"
   ]
  },
  {
   "cell_type": "code",
   "execution_count": 37,
   "id": "59e2a668-4d37-4bf7-a136-fd01ff471e7f",
   "metadata": {
    "tags": []
   },
   "outputs": [
    {
     "name": "stderr",
     "output_type": "stream",
     "text": [
      "100%|███████████████████████████████████| 11803/11803 [00:02<00:00, 5219.12it/s]\n"
     ]
    }
   ],
   "source": [
    "vocab=[]\n",
    "df={}\n",
    "for i in tqdm(api_list, total=len(api_list)):\n",
    "    with gzip.open('./datanumpy/benign_seq/api/'+i,'rb') as f:\n",
    "        data = pickle.load(f)\n",
    "    vocab.extend(list(set(data)))\n",
    "    vocab=list(set(vocab))\n",
    "\n",
    "with gzip.open('./datanumpy/tfidf/benign_pkl/api_vocab.pickle', 'wb') as f:\n",
    "    pickle.dump(vocab, f)"
   ]
  },
  {
   "cell_type": "code",
   "execution_count": 38,
   "id": "0d94ff53-108c-41c3-86ed-8b146d41a9c8",
   "metadata": {
    "tags": []
   },
   "outputs": [
    {
     "name": "stderr",
     "output_type": "stream",
     "text": [
      "100%|███████████████████████████████████| 11803/11803 [00:01<00:00, 6491.35it/s]\n"
     ]
    }
   ],
   "source": [
    "vocab_cg=[]\n",
    "df_cg={}\n",
    "for i in tqdm(cg_list, total=len(cg_list)):\n",
    "    with gzip.open('./datanumpy/benign_seq/category/'+i,'rb') as f:\n",
    "        data = pickle.load(f)\n",
    "    vocab_cg.extend(list(set(data)))\n",
    "    vocab_cg=list(set(vocab_cg))\n",
    "    \n",
    "with gzip.open('./datanumpy/tfidf/benign_pkl/cg_vocab.pickle', 'wb') as f:\n",
    "    pickle.dump(vocab_cg, f)"
   ]
  },
  {
   "cell_type": "code",
   "execution_count": 39,
   "id": "36cbf162-7d79-4f3f-bc9d-b3cf21642455",
   "metadata": {
    "tags": []
   },
   "outputs": [
    {
     "name": "stderr",
     "output_type": "stream",
     "text": [
      "100%|███████████████████████████████████| 11803/11803 [00:10<00:00, 1165.59it/s]"
     ]
    },
    {
     "name": "stdout",
     "output_type": "stream",
     "text": [
      "264\n",
      "264\n"
     ]
    },
    {
     "name": "stderr",
     "output_type": "stream",
     "text": [
      "\n"
     ]
    }
   ],
   "source": [
    "for i in tqdm(api_list, total=len(api_list)):\n",
    "    try:\n",
    "        with gzip.open('./datanumpy/benign/api/train/'+i,'rb') as f:\n",
    "            data = pickle.load(f)\n",
    "        for j in vocab:\n",
    "            if j in data:\n",
    "                if j in df:\n",
    "                    df.update({j:df[j]+1})\n",
    "                else:\n",
    "                    df[j]=1\n",
    "            else:\n",
    "                df[j]=0\n",
    "    except:\n",
    "        continue\n",
    "print(len(list(df.keys())))\n",
    "with gzip.open('./datanumpy/tfidf/benign_pkl/api_df.pickle', 'wb') as f:\n",
    "    pickle.dump(df, f)\n",
    "\n",
    "api_list_train = os.listdir('./datanumpy/benign/api/train/')\n",
    "N = len(api_list_train)\n",
    "idf = {}\n",
    "\n",
    "for i in df:\n",
    "    idf[i]=log((1+N)/(1+df[i]))+1\n",
    "\n",
    "print(len(list(idf.keys())))\n",
    "with gzip.open('./datanumpy/tfidf/benign_pkl/api_idf.pickle', 'wb') as f:\n",
    "    pickle.dump(idf, f)"
   ]
  },
  {
   "cell_type": "code",
   "execution_count": 40,
   "id": "d37030b1-10ce-4868-b5ef-e899118f4022",
   "metadata": {
    "tags": []
   },
   "outputs": [
    {
     "name": "stderr",
     "output_type": "stream",
     "text": [
      "100%|███████████████████████████████████| 11803/11803 [00:01<00:00, 9425.73it/s]"
     ]
    },
    {
     "name": "stdout",
     "output_type": "stream",
     "text": [
      "16\n",
      "16\n"
     ]
    },
    {
     "name": "stderr",
     "output_type": "stream",
     "text": [
      "\n"
     ]
    }
   ],
   "source": [
    "for i in tqdm(cg_list, total=len(cg_list)):\n",
    "    try:\n",
    "        with gzip.open('./datanumpy/benign/category/train/'+i,'rb') as f:\n",
    "            data = pickle.load(f)\n",
    "        for j in vocab_cg:\n",
    "            if j in data:\n",
    "                if j in df_cg:\n",
    "                    df_cg.update({j:df_cg[j]+1})\n",
    "                else:\n",
    "                    df_cg[j]=1\n",
    "            else:\n",
    "                df_cg[j]=0\n",
    "    except:\n",
    "        continue\n",
    "print(len(list(df_cg.keys())))\n",
    "with gzip.open('./datanumpy/tfidf/benign_pkl/cg_df.pickle', 'wb') as f:\n",
    "    pickle.dump(df_cg, f)\n",
    "    \n",
    "cg_list_train = os.listdir('./datanumpy/benign/category/train/')\n",
    "N = len(cg_list_train)\n",
    "idf_cg = {}\n",
    "\n",
    "for i in df_cg:\n",
    "    idf_cg[i]=log((1+N)/(1+df_cg[i]))+1\n",
    "print(len(list(idf_cg.keys())))\n",
    "with gzip.open('./datanumpy/tfidf/benign_pkl/cg_idf.pickle', 'wb') as f:\n",
    "    pickle.dump(idf_cg, f)"
   ]
  },
  {
   "cell_type": "code",
   "execution_count": 44,
   "id": "f47137e5-3005-4b7d-b428-24ac741e9f80",
   "metadata": {
    "tags": []
   },
   "outputs": [],
   "source": [
    "from math import sqrt"
   ]
  },
  {
   "cell_type": "code",
   "execution_count": 45,
   "id": "713f3145-05cf-484b-9341-f257c1b504e7",
   "metadata": {
    "tags": []
   },
   "outputs": [
    {
     "name": "stderr",
     "output_type": "stream",
     "text": [
      "100%|████████████████████████████████████| 11803/11803 [00:32<00:00, 364.64it/s]\n"
     ]
    }
   ],
   "source": [
    "for i in tqdm(api_list, total=len(api_list)):\n",
    "    tfidf = {}\n",
    "    with gzip.open('./datanumpy/benign_seq/api/'+i,'rb') as f:\n",
    "        data = pickle.load(f)\n",
    "    for j in vocab:\n",
    "        tfidf[j]=idf[j]*data.count(j)\n",
    "    pow_value = 0\n",
    "    for j in tfidf.values():\n",
    "        pow_value+=pow(j,2)\n",
    "    sqrt_value = sqrt(pow_value)\n",
    "    try:\n",
    "        for j in tfidf:\n",
    "            tfidf[j]=tfidf[j]/sqrt_value\n",
    "    except:\n",
    "        pass\n",
    "    with gzip.open('./datanumpy/tfidf/benign_tfidf/api_tfidf/'+i.split('.')[0]+'.pickle', 'wb') as f:\n",
    "        pickle.dump(tfidf, f)"
   ]
  },
  {
   "cell_type": "code",
   "execution_count": 46,
   "id": "cad08a8b-3e7a-459f-957d-367f14692444",
   "metadata": {
    "tags": []
   },
   "outputs": [
    {
     "name": "stderr",
     "output_type": "stream",
     "text": [
      "100%|███████████████████████████████████| 11803/11803 [00:03<00:00, 2951.81it/s]\n"
     ]
    }
   ],
   "source": [
    "for i in tqdm(cg_list, total=len(cg_list)):\n",
    "    tfidf_cg = {}\n",
    "    with gzip.open('./datanumpy/benign_seq/category/'+i,'rb') as f:\n",
    "        data = pickle.load(f)\n",
    "    for j in vocab_cg:\n",
    "        tfidf_cg[j]=idf_cg[j]*data.count(j)\n",
    "    pow_value = 0\n",
    "    for j in tfidf_cg.values():\n",
    "        pow_value +=pow(j,2)\n",
    "    sqrt_value = sqrt(pow_value)\n",
    "    try:\n",
    "        for j in tfidf_cg:\n",
    "             tfidf_cg[j]=tfidf_cg[j]/sqrt_value\n",
    "    except:\n",
    "        pass\n",
    "    with gzip.open('./datanumpy/tfidf/benign_tfidf/category_tfidf/'+i.split('.')[0]+'.pickle', 'wb') as f:\n",
    "        pickle.dump(tfidf_cg, f)"
   ]
  },
  {
   "cell_type": "code",
   "execution_count": 50,
   "id": "88aaa1d2-65e5-4adc-8543-d0dfb8f067b2",
   "metadata": {
    "tags": []
   },
   "outputs": [],
   "source": [
    "aaa = os.listdir('./datanumpy/tfidf/benign_tfidf/api_tfidf/')"
   ]
  },
  {
   "cell_type": "code",
   "execution_count": 61,
   "id": "04ed19a4-4c3c-4495-9fd6-f28406762fbd",
   "metadata": {
    "tags": []
   },
   "outputs": [],
   "source": [
    "with gzip.open('./datanumpy/tfidf/benign_tfidf/api_tfidf/'+aaa[1], 'rb') as f:\n",
    "    bbb = pickle.load(f)"
   ]
  },
  {
   "cell_type": "code",
   "execution_count": 10,
   "id": "9806cab4-52b7-413c-b536-f0498a644002",
   "metadata": {},
   "outputs": [],
   "source": [
    "def list_chunk(lst, Wn):\n",
    "    return [lst[i:i+Wn] for i in range(0, len(lst), Wn)]"
   ]
  },
  {
   "cell_type": "code",
   "execution_count": 11,
   "id": "5f11f00b-c5a0-4007-a69a-8ee53e39d808",
   "metadata": {},
   "outputs": [],
   "source": [
    "def list_chunk_a(lst, Wn, Len, N):\n",
    "    chunked_list=[]\n",
    "    idx_g = 0\n",
    "    Wn_1=Wn\n",
    "    for idx, i in enumerate(range(0, len(lst), Wn)):\n",
    "        if N-idx == int(Len-int(Len/N)*N):\n",
    "            Wn_1=Wn+1\n",
    "            idx_g = idx\n",
    "            break\n",
    "        chunked_list.append(lst[i:i+Wn])\n",
    "    for i in range(Wn*idx_g, len(lst), Wn_1):\n",
    "        chunked_list.append(lst[i:i+Wn_1])\n",
    "    return chunked_list"
   ]
  },
  {
   "cell_type": "code",
   "execution_count": 12,
   "id": "f03748ad-7abe-4521-9501-6839ab2a7c88",
   "metadata": {},
   "outputs": [],
   "source": [
    "def preprocess(N, data_tfidf, data_api):\n",
    "    padding = False\n",
    "    test_data = data_api\n",
    "    pre_test_data=[]\n",
    "    \n",
    "    for i in test_data:\n",
    "        try:\n",
    "            pre_test_data.append(data_tfidf[i])\n",
    "        except KeyError:\n",
    "            pre_test_data.append(0)\n",
    "    if len(pre_test_data) >= N:\n",
    "        Wn=len(pre_test_data)/N\n",
    "        Wn=int(Wn)\n",
    "        if len(pre_test_data)%N==0:\n",
    "            pre_test_data_window=list_chunk(pre_test_data, Wn)\n",
    "        else:\n",
    "            pre_test_data_window=list_chunk_a(pre_test_data, Wn, len(pre_test_data), N)\n",
    "    else:\n",
    "        for i in range(N-len(test_data)):\n",
    "            pre_test_data.append(0)\n",
    "        pre_test_data_window = pre_test_data\n",
    "        padding = True\n",
    "    \n",
    "    return pre_test_data_window, padding"
   ]
  },
  {
   "cell_type": "code",
   "execution_count": 13,
   "id": "e649a2b0-cea4-4851-96d7-78d0aafcc7a6",
   "metadata": {},
   "outputs": [],
   "source": [
    "def tfsliding(N, data_api, data_api_tfidf, data_cg, data_cg_tfidf, outpath, hash_name):\n",
    "    N = N\n",
    "    createDirectory(outpath)\n",
    "    pre_api_data_window, isPadding = preprocess(N, data_api_tfidf, data_api)\n",
    "    pre_cg_data_window, isPadding = preprocess(N, data_cg_tfidf, data_cg)\n",
    "    if isPadding:\n",
    "        mult_list = [pre_api_data_window[k] * pre_cg_data_window[k] for k in range(len(pre_api_data_window))]\n",
    "        # mult_list = pre_api_data_window\n",
    "        if len(mult_list)!=N:\n",
    "            print(hash_name, len(mult_list))\n",
    "            print(len(pre_api_data_window), len(pre_cg_data_window))\n",
    "        np.save(outpath+hash_name, np.array(mult_list))\n",
    "    else:\n",
    "        mult_list=[]\n",
    "        for j in range(len(pre_api_data_window)):\n",
    "            mult_list.append([pre_api_data_window[j][k] * pre_cg_data_window[j][k] for k in range(len(pre_api_data_window[j]))])\n",
    "        final_test_data=[]\n",
    "        # mult_list = pre_api_data_window\n",
    "        for i in mult_list:\n",
    "            Wnavg = sum(i) / len(i)\n",
    "            gt_cnt=0\n",
    "            lt_cnt=0\n",
    "            for j in i:\n",
    "                if j > Wnavg:\n",
    "                    gt_cnt+=1\n",
    "                if j < Wnavg:\n",
    "                    lt_cnt+=1\n",
    "            if gt_cnt>int(len(i)/2):\n",
    "                final_test_data.append(max(i))\n",
    "            elif lt_cnt>int(len(i)/2):\n",
    "                final_test_data.append(min(i))\n",
    "            else:\n",
    "                final_test_data.append(Wnavg)\n",
    "        if len(final_test_data)!=N:\n",
    "            print(idx, len(final_test_data))\n",
    "        np.save(outpath+hash_name, np.array(final_test_data))"
   ]
  },
  {
   "cell_type": "code",
   "execution_count": 6,
   "id": "8142387a-c401-4003-bf7c-3ae85aa551ba",
   "metadata": {
    "tags": []
   },
   "outputs": [],
   "source": [
    "be_api = os.listdir(\"./datanumpy/tfidf/benign_tfidf/api_tfidf/\")\n",
    "mal_api = os.listdir(\"./datanumpy/tfidf/mal_tfidf/api_tfidf/\")"
   ]
  },
  {
   "cell_type": "code",
   "execution_count": 112,
   "id": "e499d0e9-890c-476c-8e42-dafe4179c3cf",
   "metadata": {
    "tags": []
   },
   "outputs": [
    {
     "name": "stderr",
     "output_type": "stream",
     "text": [
      "  0%|▏                                      | 53/11803 [00:00<00:22, 521.75it/s]"
     ]
    },
    {
     "name": "stdout",
     "output_type": "stream",
     "text": [
      "4da50c8fc16c1ac1ef4c67ce46d9a80ba1f0d096.pickle\n"
     ]
    },
    {
     "name": "stderr",
     "output_type": "stream",
     "text": [
      "100%|████████████████████████████████████| 11803/11803 [00:29<00:00, 400.07it/s]\n"
     ]
    }
   ],
   "source": [
    "for i in tqdm(be_api, total=len(be_api)):\n",
    "    try:\n",
    "        hashname = i.split('.')[0]\n",
    "        with gzip.open('./datanumpy/tfidf/benign_tfidf/api_tfidf/'+i, 'rb') as f:\n",
    "            be_api_tfidf = pickle.load(f)\n",
    "        with gzip.open('./datanumpy/tfidf/benign_tfidf/category_tfidf/'+i, 'rb') as f:\n",
    "            be_cg_tfidf = pickle.load(f)\n",
    "        with gzip.open('./datanumpy/benign_seq/api/'+i, 'rb') as f:\n",
    "            be_api_f = pickle.load(f)\n",
    "        with gzip.open('./datanumpy/benign_seq/category/'+i, 'rb') as f:\n",
    "            be_cg_f = pickle.load(f)\n",
    "        tfsliding(800, be_api_f, be_api_tfidf, be_cg_f, be_cg_tfidf, \"./datanumpy/tfidf/benign_tfidf/tfsliding/800/\", hashname) \n",
    "        tfsliding(1200, be_api_f, be_api_tfidf, be_cg_f, be_cg_tfidf, \"./datanumpy/tfidf/benign_tfidf/tfsliding/1200/\", hashname)\n",
    "        tfsliding(2000, be_api_f, be_api_tfidf, be_cg_f, be_cg_tfidf, \"./datanumpy/tfidf/benign_tfidf/tfsliding/2000/\", hashname)\n",
    "    except:\n",
    "        print(i)\n",
    "        continue"
   ]
  },
  {
   "cell_type": "code",
   "execution_count": 113,
   "id": "e5c867a1-fdcd-430c-8f1a-a24c62577ec1",
   "metadata": {
    "tags": []
   },
   "outputs": [
    {
     "name": "stderr",
     "output_type": "stream",
     "text": [
      "100%|███████████████████████████████████| 37366/37366 [1:10:12<00:00,  8.87it/s]\n"
     ]
    }
   ],
   "source": [
    "for i in tqdm(mal_api, total=len(mal_api)):\n",
    "    try:\n",
    "        hashname = i.split('.')[0]\n",
    "        with gzip.open('./datanumpy/tfidf/mal_tfidf/api_tfidf/'+i, 'rb') as f:\n",
    "            be_api_tfidf = pickle.load(f)\n",
    "        with gzip.open('./datanumpy/tfidf/mal_tfidf/category_tfidf/'+i, 'rb') as f:\n",
    "            be_cg_tfidf = pickle.load(f)\n",
    "        with gzip.open('./datanumpy/mal_seq/api/'+i, 'rb') as f:\n",
    "            be_api_f = pickle.load(f)\n",
    "        with gzip.open('./datanumpy/mal_seq/category/'+i, 'rb') as f:\n",
    "            be_cg_f = pickle.load(f)\n",
    "        tfsliding(800, be_api_f, be_api_tfidf, be_cg_f, be_cg_tfidf, \"./datanumpy/tfidf/mal_tfidf/tfsliding/800/\", hashname) \n",
    "        tfsliding(1200, be_api_f, be_api_tfidf, be_cg_f, be_cg_tfidf, \"./datanumpy/tfidf/mal_tfidf/tfsliding/1200/\", hashname)\n",
    "        tfsliding(2000, be_api_f, be_api_tfidf, be_cg_f, be_cg_tfidf, \"./datanumpy/tfidf/mal_tfidf/tfsliding/2000/\", hashname)\n",
    "    except:\n",
    "        print(i)\n",
    "        continue"
   ]
  },
  {
   "cell_type": "code",
   "execution_count": 14,
   "id": "9fc1cb88-f8d4-45f7-b969-f2caf9046524",
   "metadata": {},
   "outputs": [
    {
     "name": "stderr",
     "output_type": "stream",
     "text": [
      "  2%|▊                                    | 263/11803 [00:00<00:08, 1323.37it/s]"
     ]
    },
    {
     "name": "stdout",
     "output_type": "stream",
     "text": [
      "4da50c8fc16c1ac1ef4c67ce46d9a80ba1f0d096.pickle\n"
     ]
    },
    {
     "name": "stderr",
     "output_type": "stream",
     "text": [
      "100%|███████████████████████████████████| 11803/11803 [00:11<00:00, 1053.62it/s]\n"
     ]
    }
   ],
   "source": [
    "for i in tqdm(be_api, total=len(be_api)):\n",
    "    try:\n",
    "        hashname = i.split('.')[0]\n",
    "        with gzip.open('./datanumpy/tfidf/benign_tfidf/api_tfidf/'+i, 'rb') as f:\n",
    "            be_api_tfidf = pickle.load(f)\n",
    "        with gzip.open('./datanumpy/tfidf/benign_tfidf/category_tfidf/'+i, 'rb') as f:\n",
    "            be_cg_tfidf = pickle.load(f)\n",
    "        with gzip.open('./datanumpy/benign_seq/api/'+i, 'rb') as f:\n",
    "            be_api_f = pickle.load(f)\n",
    "        with gzip.open('./datanumpy/benign_seq/category/'+i, 'rb') as f:\n",
    "            be_cg_f = pickle.load(f)\n",
    "        tfsliding(400, be_api_f, be_api_tfidf, be_cg_f, be_cg_tfidf, \"./datanumpy/tfidf/benign_tfidf/tfsliding/400/\", hashname)\n",
    "    except:\n",
    "        print(i)\n",
    "        continue"
   ]
  },
  {
   "cell_type": "code",
   "execution_count": 15,
   "id": "c0eac737-21ad-4487-9a42-cad4a5a1a4a6",
   "metadata": {
    "tags": []
   },
   "outputs": [
    {
     "name": "stderr",
     "output_type": "stream",
     "text": [
      "100%|█████████████████████████████████████| 37366/37366 [32:49<00:00, 18.97it/s]\n"
     ]
    }
   ],
   "source": [
    "for i in tqdm(mal_api, total=len(mal_api)):\n",
    "    try:\n",
    "        hashname = i.split('.')[0]\n",
    "        with gzip.open('./datanumpy/tfidf/mal_tfidf/api_tfidf/'+i, 'rb') as f:\n",
    "            be_api_tfidf = pickle.load(f)\n",
    "        with gzip.open('./datanumpy/tfidf/mal_tfidf/category_tfidf/'+i, 'rb') as f:\n",
    "            be_cg_tfidf = pickle.load(f)\n",
    "        with gzip.open('./datanumpy/mal_seq/api/'+i, 'rb') as f:\n",
    "            be_api_f = pickle.load(f)\n",
    "        with gzip.open('./datanumpy/mal_seq/category/'+i, 'rb') as f:\n",
    "            be_cg_f = pickle.load(f)\n",
    "        tfsliding(400, be_api_f, be_api_tfidf, be_cg_f, be_cg_tfidf, \"./datanumpy/tfidf/mal_tfidf/tfsliding/400/\", hashname)\n",
    "    except:\n",
    "        print(i)\n",
    "        continue"
   ]
  },
  {
   "cell_type": "code",
   "execution_count": null,
   "id": "74d86b63-ba66-4661-8b7c-181eff17f282",
   "metadata": {},
   "outputs": [],
   "source": []
  }
 ],
 "metadata": {
  "kernelspec": {
   "display_name": "Python 3 (ipykernel)",
   "language": "python",
   "name": "python3"
  },
  "language_info": {
   "codemirror_mode": {
    "name": "ipython",
    "version": 3
   },
   "file_extension": ".py",
   "mimetype": "text/x-python",
   "name": "python",
   "nbconvert_exporter": "python",
   "pygments_lexer": "ipython3",
   "version": "3.7.16"
  }
 },
 "nbformat": 4,
 "nbformat_minor": 5
}
